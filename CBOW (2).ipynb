{
  "nbformat": 4,
  "nbformat_minor": 0,
  "metadata": {
    "colab": {
      "provenance": []
    },
    "kernelspec": {
      "name": "python3",
      "display_name": "Python 3"
    },
    "language_info": {
      "name": "python"
    }
  },
  "cells": [
    {
      "cell_type": "code",
      "execution_count": 2,
      "metadata": {
        "id": "sQss7FcGp6ds"
      },
      "outputs": [],
      "source": [
        "import matplotlib.pyplot as plt\n",
        "import seaborn as sns\n",
        "import matplotlib as mpl\n",
        "import matplotlib.pylab as pylab\n",
        "import numpy as np\n",
        "%matplotlib inline"
      ]
    },
    {
      "cell_type": "code",
      "source": [
        "#Data Prepration\n",
        "import re"
      ],
      "metadata": {
        "id": "-F4hE_AnqN3U"
      },
      "execution_count": 3,
      "outputs": []
    },
    {
      "cell_type": "code",
      "source": [
        "sentences = \"\"\"We are about to study the idea of a computational process.\n",
        "Computational processes are abstract beings that inhabit computers.\n",
        "As they evolve, processes manipulate other abstract things called data.\n",
        "The evolution of a process is directed by a pattern of rules\n",
        "called a program. People create programs to direct processes. In effect,\n",
        "we conjure the spirits of the computer with our spells.\"\"\"\n"
      ],
      "metadata": {
        "id": "WFWp_8bzqP54"
      },
      "execution_count": 4,
      "outputs": []
    },
    {
      "cell_type": "code",
      "source": [
        "# remove special characters\n",
        "sentences = re.sub('[^A-Za-z0-9]+', ' ', sentences)\n",
        "# remove 1 letter words\n",
        "sentences = re.sub(r'(?:^| )\\w(?:$| )', ' ', sentences).strip()\n",
        "# lower all characters\n",
        "sentences = sentences.lower()\n"
      ],
      "metadata": {
        "id": "wHbSuU8sqV1s"
      },
      "execution_count": 5,
      "outputs": []
    },
    {
      "cell_type": "code",
      "source": [
        "words = sentences.split()\n",
        "vocab = set(words)\n"
      ],
      "metadata": {
        "id": "NmbgyYElqZ51"
      },
      "execution_count": 6,
      "outputs": []
    },
    {
      "cell_type": "code",
      "source": [
        "vocab_size = len(vocab)\n",
        "embed_dim = 10\n",
        "context_size = 2"
      ],
      "metadata": {
        "id": "EDUigZr1qei5"
      },
      "execution_count": 7,
      "outputs": []
    },
    {
      "cell_type": "code",
      "source": [
        "word_to_ix = {word: i for i, word in enumerate(vocab)}\n",
        "ix_to_word = {i: word for i, word in enumerate(vocab)}\n"
      ],
      "metadata": {
        "id": "EQA-U4FBqiaF"
      },
      "execution_count": 8,
      "outputs": []
    },
    {
      "cell_type": "code",
      "source": [
        "# data - [(context), target]\n",
        "data = []\n",
        "for i in range(2, len(words) - 2):\n",
        "  context = [words[i - 2], words[i - 1], words[i + 1], words[i + 2]]\n",
        "  target = words[i]\n",
        "  data.append((context, target))\n",
        "print(data[:5])\n"
      ],
      "metadata": {
        "colab": {
          "base_uri": "https://localhost:8080/"
        },
        "id": "TOCoojWoqllV",
        "outputId": "b91c13c2-094f-4aa5-f306-94c3e1f9b4f3"
      },
      "execution_count": 10,
      "outputs": [
        {
          "output_type": "stream",
          "name": "stdout",
          "text": [
            "[(['we', 'are', 'to', 'study'], 'about'), (['are', 'about', 'study', 'the'], 'to'), (['about', 'to', 'the', 'idea'], 'study'), (['to', 'study', 'idea', 'of'], 'the'), (['study', 'the', 'of', 'computational'], 'idea')]\n"
          ]
        }
      ]
    },
    {
      "cell_type": "code",
      "source": [
        "embeddings = np.random.random_sample((vocab_size, embed_dim))\n"
      ],
      "metadata": {
        "id": "gmqQy7_dqpRY"
      },
      "execution_count": 11,
      "outputs": []
    },
    {
      "cell_type": "code",
      "source": [
        "def linear(m, theta):\n",
        "  w = theta\n",
        "  return m.dot(w)"
      ],
      "metadata": {
        "id": "IDtgyZnpqz5a"
      },
      "execution_count": 13,
      "outputs": []
    },
    {
      "cell_type": "code",
      "source": [
        "def log_softmax(x):\n",
        "  e_x = np.exp(x - np.max(x))\n",
        "  return np.log(e_x / e_x.sum())\n"
      ],
      "metadata": {
        "id": "qd7OfTYnq2nT"
      },
      "execution_count": 14,
      "outputs": []
    },
    {
      "cell_type": "code",
      "source": [
        "def NLLLoss(logs, targets):\n",
        "  out = logs[range(len(targets)), targets]\n",
        "  return -out.sum()/len(out)\n"
      ],
      "metadata": {
        "id": "F0n2PNfLrA8K"
      },
      "execution_count": 15,
      "outputs": []
    },
    {
      "cell_type": "code",
      "source": [
        "def log_softmax_crossentropy_with_logits(logits,target):\n",
        "  out = np.zeros_like(logits)\n",
        "  out[np.arange(len(logits)),target] = 1\n",
        "  softmax = np.exp(logits) / np.exp(logits).sum(axis=-1,keepdims=True)\n",
        "  return (- out + softmax) / logits.shape[0]"
      ],
      "metadata": {
        "id": "M0DqMFJKrDrW"
      },
      "execution_count": 16,
      "outputs": []
    },
    {
      "cell_type": "code",
      "source": [
        "def forward(context_idxs, theta):\n",
        "  m = embeddings[context_idxs].reshape(1, -1)\n",
        "  n = linear(m, theta)\n",
        "  o = log_softmax(n)\n",
        "  return m, n, o"
      ],
      "metadata": {
        "id": "F7sWPXyFrJ80"
      },
      "execution_count": 17,
      "outputs": []
    },
    {
      "cell_type": "code",
      "source": [
        "def backward(preds, theta, target_idxs):\n",
        "  m, n, o = preds\n",
        "  dlog = log_softmax_crossentropy_with_logits(n, target_idxs)\n",
        "  dw = m.T.dot(dlog)\n",
        "  return dw"
      ],
      "metadata": {
        "id": "3wq69GS4rN3r"
      },
      "execution_count": 18,
      "outputs": []
    },
    {
      "cell_type": "code",
      "source": [
        "def optimize(theta, grad, lr=0.03):\n",
        "  theta -= grad * lr\n",
        "  return theta"
      ],
      "metadata": {
        "id": "CZ7XKUUZrSU_"
      },
      "execution_count": 19,
      "outputs": []
    },
    {
      "cell_type": "code",
      "source": [
        "#Genrate training data\n",
        "theta = np.random.uniform(-1, 1, (2 * context_size * embed_dim, vocab_size))"
      ],
      "metadata": {
        "id": "QXn-cHCLrW8L"
      },
      "execution_count": 21,
      "outputs": []
    },
    {
      "cell_type": "code",
      "source": [
        "epoch_losses = {}\n",
        "for epoch in range(80):\n",
        "  losses = []\n",
        "  for context, target in data:\n",
        "    context_idxs = np.array([word_to_ix[w] for w in context])\n",
        "    preds = forward(context_idxs, theta)\n",
        "    target_idxs = np.array([word_to_ix[target]])\n",
        "    loss = NLLLoss(preds[-1], target_idxs)\n",
        "    losses.append(loss)\n",
        "    grad = backward(preds, theta, target_idxs)\n",
        "    theta = optimize(theta, grad, lr=0.03)\n",
        "  epoch_losses[epoch] = losses"
      ],
      "metadata": {
        "id": "KpQLXpY-rbzZ"
      },
      "execution_count": 23,
      "outputs": []
    },
    {
      "cell_type": "code",
      "source": [
        "ix = np.arange(0,80)\n",
        "fig = plt.figure()\n",
        "fig.suptitle('Epoch/Losses', fontsize=20)\n",
        "plt.plot(ix,[epoch_losses[i][0] for i in ix])\n",
        "plt.xlabel('Epochs', fontsize=12)\n",
        "plt.ylabel('Losses', fontsize=12)"
      ],
      "metadata": {
        "colab": {
          "base_uri": "https://localhost:8080/",
          "height": 519
        },
        "id": "HB7gw5vmrml0",
        "outputId": "42b0e3d0-49ef-4b91-a974-e760b268db4d"
      },
      "execution_count": 24,
      "outputs": [
        {
          "output_type": "execute_result",
          "data": {
            "text/plain": [
              "Text(0, 0.5, 'Losses')"
            ]
          },
          "metadata": {},
          "execution_count": 24
        },
        {
          "output_type": "display_data",
          "data": {
            "text/plain": [
              "<Figure size 640x480 with 1 Axes>"
            ],
            "image/png": "[encoded data removed]"
          },
          "metadata": {}
        }
      ]
    },
    {
      "cell_type": "code",
      "source": [
        "def predict(words):\n",
        "  context_idxs = np.array([word_to_ix[w] for w in words])\n",
        "  preds = forward(context_idxs, theta)\n",
        "  word = ix_to_word[np.argmax(preds[-1])]\n",
        "  return word"
      ],
      "metadata": {
        "id": "QuPnaV0wrvtP"
      },
      "execution_count": 25,
      "outputs": []
    },
    {
      "cell_type": "code",
      "source": [
        "# (['we', 'are', 'to', 'study'], 'about')\n",
        "predict(['we', 'are', 'to', 'study'])"
      ],
      "metadata": {
        "colab": {
          "base_uri": "https://localhost:8080/",
          "height": 36
        },
        "id": "14gcVEPUr0i0",
        "outputId": "2a4148d3-15cc-4924-e9a9-47d87d68d850"
      },
      "execution_count": 26,
      "outputs": [
        {
          "output_type": "execute_result",
          "data": {
            "text/plain": [
              "'about'"
            ],
            "application/vnd.google.colaboratory.intrinsic+json": {
              "type": "string"
            }
          },
          "metadata": {},
          "execution_count": 26
        }
      ]
    },
    {
      "cell_type": "code",
      "source": [
        "def accuracy():\n",
        "  wrong = 0\n",
        "  for context, target in data:\n",
        "    if(predict(context) != target):\n",
        "      wrong += 1\n",
        "  return (1 - (wrong / len(data)))"
      ],
      "metadata": {
        "id": "QNClf_nar5pJ"
      },
      "execution_count": 27,
      "outputs": []
    },
    {
      "cell_type": "code",
      "source": [
        "accuracy()\n"
      ],
      "metadata": {
        "colab": {
          "base_uri": "https://localhost:8080/"
        },
        "id": "TNAHB4ZIr_j5",
        "outputId": "b7345c18-01f6-4bbb-95aa-cba7ea09fc95"
      },
      "execution_count": 28,
      "outputs": [
        {
          "output_type": "execute_result",
          "data": {
            "text/plain": [
              "1.0"
            ]
          },
          "metadata": {},
          "execution_count": 28
        }
      ]
    },
    {
      "cell_type": "code",
      "source": [
        "predict(['processes', 'manipulate', 'things', 'study'])"
      ],
      "metadata": {
        "colab": {
          "base_uri": "https://localhost:8080/",
          "height": 36
        },
        "id": "y303nk-ysCMY",
        "outputId": "2e690dd6-f97b-4297-82d1-2f6a309d3015"
      },
      "execution_count": 30,
      "outputs": [
        {
          "output_type": "execute_result",
          "data": {
            "text/plain": [
              "'the'"
            ],
            "application/vnd.google.colaboratory.intrinsic+json": {
              "type": "string"
            }
          },
          "metadata": {},
          "execution_count": 30
        }
      ]
    },
    {
      "cell_type": "code",
      "source": [],
      "metadata": {
        "id": "ImdAVOVnsEPE"
      },
      "execution_count": null,
      "outputs": []
    }
  ]
}