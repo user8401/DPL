{
  "nbformat": 4,
  "nbformat_minor": 0,
  "metadata": {
    "colab": {
      "provenance": []
    },
    "kernelspec": {
      "name": "python3",
      "display_name": "Python 3"
    },
    "language_info": {
      "name": "python"
    }
  },
  "cells": [
    {
      "cell_type": "code",
      "execution_count": 1,
      "metadata": {
        "id": "ICpZe4bk_O1E"
      },
      "outputs": [],
      "source": [
        "import keras\n",
        "from keras import layers\n",
        "# This is the size of our encoded representations\n",
        "encoding_dim = 32 # 32 floats -> compression of factor 24.5, assuming the\n",
        "# This is our input image\n",
        "input_img = keras.Input(shape=(784,))\n",
        "# \"encoded\" is the encoded representation of the input\n",
        "encoded = layers.Dense(encoding_dim, activation='relu')(input_img)\n",
        "# \"decoded\" is the lossy reconstruction of the input\n",
        "decoded = layers.Dense(784, activation='sigmoid')(encoded)\n",
        "# This model maps an input to its reconstruction\n",
        "autoencoder = keras.Model(input_img, decoded)\n"
      ]
    },
    {
      "cell_type": "code",
      "source": [
        "#Let's also create a separate encoder model:\n",
        "# This model maps an input to its encoded representation\n",
        "encoder = keras.Model(input_img, encoded)\n"
      ],
      "metadata": {
        "id": "-9mziKEx_Xqc"
      },
      "execution_count": 2,
      "outputs": []
    },
    {
      "cell_type": "code",
      "source": [
        "#As well as the decoder model:\n",
        "# This is our encoded (32-dimensional) input\n",
        "encoded_input = keras.Input(shape=(encoding_dim,))\n",
        "# Retrieve the last layer of the autoencoder model\n",
        "decoder_layer = autoencoder.layers[-1]\n",
        "# Create the decoder model\n",
        "decoder = keras.Model(encoded_input, decoder_layer(encoded_input))"
      ],
      "metadata": {
        "id": "2yaTeSDW_av7"
      },
      "execution_count": 3,
      "outputs": []
    },
    {
      "cell_type": "code",
      "source": [
        "#Now let's train our autoencoder to reconstruct MNIST digits.\n",
        "#z`First, we'll configure our model to use a per-pixel binary crossentropy\n",
        "autoencoder.compile(optimizer='adam', loss='binary_crossentropy')"
      ],
      "metadata": {
        "id": "VVApqvMS_dLi"
      },
      "execution_count": 4,
      "outputs": []
    },
    {
      "cell_type": "code",
      "source": [
        "# Let's prepare our input data. We're using MNIST digits, and we're discard\n",
        "from keras.datasets import mnist\n",
        "import numpy as np\n",
        "(x_train, _), (x_test, _) = mnist.load_data()\n"
      ],
      "metadata": {
        "colab": {
          "base_uri": "https://localhost:8080/"
        },
        "id": "U5N-XpAw_gJ7",
        "outputId": "cd49cf26-9621-449d-aa3c-233fa324f4ab"
      },
      "execution_count": 5,
      "outputs": [
        {
          "output_type": "stream",
          "name": "stdout",
          "text": [
            "Downloading data from https://storage.googleapis.com/tensorflow/tf-keras-datasets/mnist.npz\n",
            "11490434/11490434 [==============================] - 0s 0us/step\n"
          ]
        }
      ]
    },
    {
      "cell_type": "code",
      "source": [
        "#We will normalize all values between 0 and 1 and we will flatten the 28x28\n",
        "x_train = x_train.astype('float32') / 255.\n",
        "x_test = x_test.astype('float32') / 255.\n",
        "x_train = x_train.reshape((len(x_train), np.prod(x_train.shape[1:])))\n",
        "x_test = x_test.reshape((len(x_test), np.prod(x_test.shape[1:])))\n",
        "print(x_train.shape)\n",
        "print(x_test.shape)\n"
      ],
      "metadata": {
        "colab": {
          "base_uri": "https://localhost:8080/"
        },
        "id": "ehOp0LSd_ig7",
        "outputId": "09ec38a0-d92c-4c58-ed04-fbc242e353ca"
      },
      "execution_count": 6,
      "outputs": [
        {
          "output_type": "stream",
          "name": "stdout",
          "text": [
            "(60000, 784)\n",
            "(10000, 784)\n"
          ]
        }
      ]
    },
    {
      "cell_type": "code",
      "source": [
        "#Now let's train our autoencoder for 50 epochs:\n",
        "autoencoder.fit(x_train, x_train,\n",
        " epochs=50,\n",
        " batch_size=256,\n",
        " shuffle=True,\n",
        " validation_data=(x_test, x_test))\n"
      ],
      "metadata": {
        "colab": {
          "base_uri": "https://localhost:8080/"
        },
        "id": "2q13N9Mw_l65",
        "outputId": "331e20af-8c45-4526-b2a5-3d719d3055c6"
      },
      "execution_count": 7,
      "outputs": [
        {
          "output_type": "stream",
          "name": "stdout",
          "text": [
            "Epoch 1/50\n",
            "235/235 [==============================] - 4s 12ms/step - loss: 0.2719 - val_loss: 0.1859\n",
            "Epoch 2/50\n",
            "235/235 [==============================] - 2s 9ms/step - loss: 0.1689 - val_loss: 0.1529\n",
            "Epoch 3/50\n",
            "235/235 [==============================] - 2s 8ms/step - loss: 0.1437 - val_loss: 0.1332\n",
            "Epoch 4/50\n",
            "235/235 [==============================] - 2s 8ms/step - loss: 0.1277 - val_loss: 0.1202\n",
            "Epoch 5/50\n",
            "235/235 [==============================] - 2s 8ms/step - loss: 0.1171 - val_loss: 0.1117\n",
            "Epoch 6/50\n",
            "235/235 [==============================] - 2s 10ms/step - loss: 0.1101 - val_loss: 0.1062\n",
            "Epoch 7/50\n",
            "235/235 [==============================] - 2s 10ms/step - loss: 0.1052 - val_loss: 0.1020\n",
            "Epoch 8/50\n",
            "235/235 [==============================] - 2s 8ms/step - loss: 0.1016 - val_loss: 0.0991\n",
            "Epoch 9/50\n",
            "235/235 [==============================] - 2s 8ms/step - loss: 0.0990 - val_loss: 0.0967\n",
            "Epoch 10/50\n",
            "235/235 [==============================] - 2s 8ms/step - loss: 0.0972 - val_loss: 0.0952\n",
            "Epoch 11/50\n",
            "235/235 [==============================] - 2s 8ms/step - loss: 0.0959 - val_loss: 0.0942\n",
            "Epoch 12/50\n",
            "235/235 [==============================] - 2s 9ms/step - loss: 0.0951 - val_loss: 0.0935\n",
            "Epoch 13/50\n",
            "235/235 [==============================] - 3s 11ms/step - loss: 0.0946 - val_loss: 0.0931\n",
            "Epoch 14/50\n",
            "235/235 [==============================] - 2s 10ms/step - loss: 0.0942 - val_loss: 0.0927\n",
            "Epoch 15/50\n",
            "235/235 [==============================] - 2s 10ms/step - loss: 0.0940 - val_loss: 0.0926\n",
            "Epoch 16/50\n",
            "235/235 [==============================] - 2s 9ms/step - loss: 0.0938 - val_loss: 0.0924\n",
            "Epoch 17/50\n",
            "235/235 [==============================] - 2s 9ms/step - loss: 0.0936 - val_loss: 0.0923\n",
            "Epoch 18/50\n",
            "235/235 [==============================] - 4s 16ms/step - loss: 0.0935 - val_loss: 0.0922\n",
            "Epoch 19/50\n",
            "235/235 [==============================] - 2s 8ms/step - loss: 0.0934 - val_loss: 0.0921\n",
            "Epoch 20/50\n",
            "235/235 [==============================] - 2s 8ms/step - loss: 0.0933 - val_loss: 0.0920\n",
            "Epoch 21/50\n",
            "235/235 [==============================] - 2s 10ms/step - loss: 0.0932 - val_loss: 0.0919\n",
            "Epoch 22/50\n",
            "235/235 [==============================] - 3s 14ms/step - loss: 0.0932 - val_loss: 0.0919\n",
            "Epoch 23/50\n",
            "235/235 [==============================] - 5s 20ms/step - loss: 0.0931 - val_loss: 0.0918\n",
            "Epoch 24/50\n",
            "235/235 [==============================] - 4s 16ms/step - loss: 0.0931 - val_loss: 0.0918\n",
            "Epoch 25/50\n",
            "235/235 [==============================] - 4s 18ms/step - loss: 0.0930 - val_loss: 0.0917\n",
            "Epoch 26/50\n",
            "235/235 [==============================] - 5s 19ms/step - loss: 0.0930 - val_loss: 0.0917\n",
            "Epoch 27/50\n",
            "235/235 [==============================] - 4s 17ms/step - loss: 0.0929 - val_loss: 0.0917\n",
            "Epoch 28/50\n",
            "235/235 [==============================] - 4s 16ms/step - loss: 0.0929 - val_loss: 0.0917\n",
            "Epoch 29/50\n",
            "235/235 [==============================] - 5s 20ms/step - loss: 0.0929 - val_loss: 0.0916\n",
            "Epoch 30/50\n",
            "235/235 [==============================] - 2s 9ms/step - loss: 0.0928 - val_loss: 0.0916\n",
            "Epoch 31/50\n",
            "235/235 [==============================] - 2s 9ms/step - loss: 0.0928 - val_loss: 0.0916\n",
            "Epoch 32/50\n",
            "235/235 [==============================] - 2s 9ms/step - loss: 0.0928 - val_loss: 0.0916\n",
            "Epoch 33/50\n",
            "235/235 [==============================] - 2s 9ms/step - loss: 0.0928 - val_loss: 0.0916\n",
            "Epoch 34/50\n",
            "235/235 [==============================] - 2s 10ms/step - loss: 0.0928 - val_loss: 0.0916\n",
            "Epoch 35/50\n",
            "235/235 [==============================] - 3s 12ms/step - loss: 0.0928 - val_loss: 0.0916\n",
            "Epoch 36/50\n",
            "235/235 [==============================] - 2s 9ms/step - loss: 0.0927 - val_loss: 0.0916\n",
            "Epoch 37/50\n",
            "235/235 [==============================] - 2s 9ms/step - loss: 0.0927 - val_loss: 0.0915\n",
            "Epoch 38/50\n",
            "235/235 [==============================] - 2s 9ms/step - loss: 0.0927 - val_loss: 0.0915\n",
            "Epoch 39/50\n",
            "235/235 [==============================] - 2s 10ms/step - loss: 0.0927 - val_loss: 0.0915\n",
            "Epoch 40/50\n",
            "235/235 [==============================] - 3s 13ms/step - loss: 0.0927 - val_loss: 0.0915\n",
            "Epoch 41/50\n",
            "235/235 [==============================] - 2s 9ms/step - loss: 0.0927 - val_loss: 0.0915\n",
            "Epoch 42/50\n",
            "235/235 [==============================] - 2s 9ms/step - loss: 0.0926 - val_loss: 0.0916\n",
            "Epoch 43/50\n",
            "235/235 [==============================] - 2s 10ms/step - loss: 0.0926 - val_loss: 0.0914\n",
            "Epoch 44/50\n",
            "235/235 [==============================] - 2s 9ms/step - loss: 0.0926 - val_loss: 0.0915\n",
            "Epoch 45/50\n",
            "235/235 [==============================] - 3s 12ms/step - loss: 0.0926 - val_loss: 0.0914\n",
            "Epoch 46/50\n",
            "235/235 [==============================] - 2s 10ms/step - loss: 0.0926 - val_loss: 0.0915\n",
            "Epoch 47/50\n",
            "235/235 [==============================] - 2s 9ms/step - loss: 0.0926 - val_loss: 0.0914\n",
            "Epoch 48/50\n",
            "235/235 [==============================] - 2s 9ms/step - loss: 0.0926 - val_loss: 0.0914\n",
            "Epoch 49/50\n",
            "235/235 [==============================] - 2s 9ms/step - loss: 0.0926 - val_loss: 0.0914\n",
            "Epoch 50/50\n",
            "235/235 [==============================] - 2s 9ms/step - loss: 0.0926 - val_loss: 0.0914\n"
          ]
        },
        {
          "output_type": "execute_result",
          "data": {
            "text/plain": [
              "<keras.src.callbacks.History at 0x7d82b98d6710>"
            ]
          },
          "metadata": {},
          "execution_count": 7
        }
      ]
    },
    {
      "cell_type": "code",
      "source": [
        "# After 50 epochs, the autoencoder seems to reach a stable train/validation\n",
        "# Encode and decode some digits\n",
        "# Note that we take them from the *test* set\n",
        "encoded_imgs = encoder.predict(x_test)\n",
        "decoded_imgs = decoder.predict(encoded_imgs)\n"
      ],
      "metadata": {
        "colab": {
          "base_uri": "https://localhost:8080/"
        },
        "id": "A4dJb_hk_sa2",
        "outputId": "55e3eac8-52ec-415c-d874-243a0ede79e6"
      },
      "execution_count": 8,
      "outputs": [
        {
          "output_type": "stream",
          "name": "stdout",
          "text": [
            "313/313 [==============================] - 0s 1ms/step\n",
            "313/313 [==============================] - 1s 1ms/step\n"
          ]
        }
      ]
    },
    {
      "cell_type": "code",
      "source": [
        "# Use Matplotlib\n",
        "import matplotlib.pyplot as plt\n",
        "n = 10 # How many digits we will display\n",
        "plt.figure(figsize=(20, 4))\n",
        "for i in range(n):\n",
        " # Display original\n",
        " ax = plt.subplot(2, n, i + 1)\n",
        " plt.imshow(x_test[i].reshape(28, 28))\n",
        " plt.gray()\n",
        " ax.get_xaxis().set_visible(False)\n",
        " ax.get_yaxis().set_visible(False)\n",
        " # Display reconstruction\n",
        " ax = plt.subplot(2, n, i + 1 + n)\n",
        " plt.imshow(decoded_imgs[i].reshape(28, 28))\n",
        " plt.gray()\n",
        " ax.get_xaxis().set_visible(False)\n",
        " ax.get_yaxis().set_visible(False)\n",
        "plt.show()"
      ],
      "metadata": {
        "colab": {
          "base_uri": "https://localhost:8080/",
          "height": 303
        },
        "id": "NUJwh87n_0On",
        "outputId": "7ad59528-b54c-403c-9a78-22aedf1d03b7"
      },
      "execution_count": 9,
      "outputs": [
        {
          "output_type": "display_data",
          "data": {
            "text/plain": [
              "<Figure size 2000x400 with 20 Axes>"
            ],
            "image/png": "[encoded data removed]"
          },
          "metadata": {}
        }
      ]
    },
    {
      "cell_type": "code",
      "source": [],
      "metadata": {
        "id": "Y_l469Gv_4vx"
      },
      "execution_count": null,
      "outputs": []
    }
  ]
}