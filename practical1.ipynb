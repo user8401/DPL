{
  "nbformat": 4,
  "nbformat_minor": 0,
  "metadata": {
    "colab": {
      "provenance": []
    },
    "kernelspec": {
      "name": "python3",
      "display_name": "Python 3"
    },
    "language_info": {
      "name": "python"
    }
  },
  "cells": [
    {
      "cell_type": "code",
      "execution_count": null,
      "metadata": {
        "colab": {
          "base_uri": "https://localhost:8080/"
        },
        "id": "KsjsKK7lncM1",
        "outputId": "8a73268b-c150-40e8-bcbe-21caadb4a72c"
      },
      "outputs": [
        {
          "output_type": "stream",
          "name": "stdout",
          "text": [
            "2.14.0\n"
          ]
        }
      ],
      "source": [
        "#Importing TensorFlow and printing out the version.\n",
        "import tensorflow as tf\n",
        "print(tf.__version__)"
      ]
    },
    {
      "cell_type": "code",
      "source": [
        "#First create a scalar using tf.constant.\n",
        "scalar = tf.constant(7)\n",
        "print(scalar)\n",
        "print(scalar.ndim)"
      ],
      "metadata": {
        "colab": {
          "base_uri": "https://localhost:8080/"
        },
        "id": "k9b-wcHtnpCx",
        "outputId": "6ab0cab1-fc0f-4fb0-a8c5-d32a8d21978b"
      },
      "execution_count": null,
      "outputs": [
        {
          "output_type": "stream",
          "name": "stdout",
          "text": [
            "tf.Tensor(7, shape=(), dtype=int32)\n",
            "0\n"
          ]
        }
      ]
    },
    {
      "cell_type": "code",
      "source": [
        "#Create a vector\n",
        "vector = tf.constant([10,10])\n",
        "print(vector)\n",
        "print(vector.ndim)"
      ],
      "metadata": {
        "colab": {
          "base_uri": "https://localhost:8080/"
        },
        "id": "RHBhq6U6nzI8",
        "outputId": "5cb7f838-113e-44b5-b8e0-29ab5883137d"
      },
      "execution_count": null,
      "outputs": [
        {
          "output_type": "stream",
          "name": "stdout",
          "text": [
            "tf.Tensor([10 10], shape=(2,), dtype=int32)\n",
            "1\n"
          ]
        }
      ]
    },
    {
      "cell_type": "code",
      "source": [
        "#Creating a Matrix\n",
        "matrix = tf.constant([\n",
        " [10,11],\n",
        " [12,13]\n",
        "])\n",
        "print(matrix)\n",
        "print(matrix.ndim)"
      ],
      "metadata": {
        "colab": {
          "base_uri": "https://localhost:8080/"
        },
        "id": "FOyhSgUJn1oX",
        "outputId": "9873a792-7157-41af-8578-7686f59a1676"
      },
      "execution_count": null,
      "outputs": [
        {
          "output_type": "stream",
          "name": "stdout",
          "text": [
            "tf.Tensor(\n",
            "[[10 11]\n",
            " [12 13]], shape=(2, 2), dtype=int32)\n",
            "2\n"
          ]
        }
      ]
    },
    {
      "cell_type": "code",
      "source": [
        "#Tensors have a default datatype of int32\n",
        "#Simple calculations using the tensor\n",
        "basic_tensor = tf.constant([[10,11],[12,13]])\n",
        "print(basic_tensor)"
      ],
      "metadata": {
        "colab": {
          "base_uri": "https://localhost:8080/"
        },
        "id": "P4xX7QRon4WH",
        "outputId": "2b0d9b57-128c-437b-a7f7-f0852ae2a1e9"
      },
      "execution_count": null,
      "outputs": [
        {
          "output_type": "stream",
          "name": "stdout",
          "text": [
            "tf.Tensor(\n",
            "[[10 11]\n",
            " [12 13]], shape=(2, 2), dtype=int32)\n"
          ]
        }
      ]
    },
    {
      "cell_type": "code",
      "source": [
        "#We can add, subtract, multiply, and divide every value in a\n",
        "#tensor using the basic operators.\n",
        "print(basic_tensor + 10)\n",
        "print(basic_tensor - 10)\n",
        "print(basic_tensor * 10)\n",
        "print(basic_tensor / 10)"
      ],
      "metadata": {
        "colab": {
          "base_uri": "https://localhost:8080/"
        },
        "id": "h2md8u0Wn7c6",
        "outputId": "07ab0e17-2dc3-44ea-ff4a-17161a0981c5"
      },
      "execution_count": null,
      "outputs": [
        {
          "output_type": "stream",
          "name": "stdout",
          "text": [
            "tf.Tensor(\n",
            "[[20 21]\n",
            " [22 23]], shape=(2, 2), dtype=int32)\n",
            "tf.Tensor(\n",
            "[[0 1]\n",
            " [2 3]], shape=(2, 2), dtype=int32)\n",
            "tf.Tensor(\n",
            "[[100 110]\n",
            " [120 130]], shape=(2, 2), dtype=int32)\n",
            "tf.Tensor(\n",
            "[[1.  1.1]\n",
            " [1.2 1.3]], shape=(2, 2), dtype=float64)\n"
          ]
        }
      ]
    },
    {
      "cell_type": "code",
      "source": [
        "#Matrix Multiplication\n",
        "tensor_011 = tf.constant([[2,2],[4,4]])\n",
        "tensor_012 = tf.constant([[2,3],[4,5]])\n",
        "print(tf.matmul(tensor_011,tensor_012))\n"
      ],
      "metadata": {
        "colab": {
          "base_uri": "https://localhost:8080/"
        },
        "id": "UnEspnswn93T",
        "outputId": "24330c44-f359-4be6-8b4b-6db541325a50"
      },
      "execution_count": null,
      "outputs": [
        {
          "output_type": "stream",
          "name": "stdout",
          "text": [
            "tf.Tensor(\n",
            "[[12 16]\n",
            " [24 32]], shape=(2, 2), dtype=int32)\n"
          ]
        }
      ]
    },
    {
      "cell_type": "code",
      "source": [
        "#To find the minimum and maximum values\n",
        "tensor_013 = tf.constant([\n",
        " [1,2,3],\n",
        " [4,5,6],\n",
        " [7,8,9]\n",
        "],dtype='float32')\n",
        "print(tf.reduce_min(tensor_013))\n",
        "print(tf.reduce_max(tensor_013))\n",
        "print(tf.reduce_sum(tensor_013))"
      ],
      "metadata": {
        "colab": {
          "base_uri": "https://localhost:8080/"
        },
        "id": "bUxCc1ucoBGx",
        "outputId": "d91a38f4-ba9f-46c5-9e30-3f097f3de088"
      },
      "execution_count": null,
      "outputs": [
        {
          "output_type": "stream",
          "name": "stdout",
          "text": [
            "tf.Tensor(1.0, shape=(), dtype=float32)\n",
            "tf.Tensor(9.0, shape=(), dtype=float32)\n",
            "tf.Tensor(45.0, shape=(), dtype=float32)\n"
          ]
        }
      ]
    },
    {
      "cell_type": "code",
      "source": [
        "#Find the square, square root, and log of each value in a tensor.\n",
        "print(tf.sqrt(tensor_013))\n",
        "print(tf.square(tensor_013))\n",
        "print(tf.math.log(tensor_013))"
      ],
      "metadata": {
        "colab": {
          "base_uri": "https://localhost:8080/"
        },
        "id": "wrZfhaNdoE5p",
        "outputId": "3c9de221-8750-43b6-dfcf-cf20e3a7c303"
      },
      "execution_count": null,
      "outputs": [
        {
          "output_type": "stream",
          "name": "stdout",
          "text": [
            "tf.Tensor(\n",
            "[[1.        1.4142135 1.7320508]\n",
            " [2.        2.236068  2.4494898]\n",
            " [2.6457512 2.828427  3.       ]], shape=(3, 3), dtype=float32)\n",
            "tf.Tensor(\n",
            "[[ 1.  4.  9.]\n",
            " [16. 25. 36.]\n",
            " [49. 64. 81.]], shape=(3, 3), dtype=float32)\n",
            "tf.Tensor(\n",
            "[[0.        0.6931472 1.0986123]\n",
            " [1.3862944 1.609438  1.7917595]\n",
            " [1.9459102 2.0794415 2.1972246]], shape=(3, 3), dtype=float32)\n"
          ]
        }
      ]
    },
    {
      "cell_type": "code",
      "source": [],
      "metadata": {
        "id": "5lojy6WNoHgR"
      },
      "execution_count": null,
      "outputs": []
    }
  ]
}