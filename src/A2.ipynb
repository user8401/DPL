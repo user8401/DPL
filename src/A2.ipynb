{
 "cells": [
  {
   "cell_type": "code",
   "execution_count": 1,
   "id": "28e115ff",
   "metadata": {},
   "outputs": [
    {
     "ename": "ModuleNotFoundError",
     "evalue": "No module named 'tensorflow'",
     "output_type": "error",
     "traceback": [
      "\u001b[1;31m---------------------------------------------------------------------------\u001b[0m",
      "\u001b[1;31mModuleNotFoundError\u001b[0m                       Traceback (most recent call last)",
      "\u001b[1;32mc:\\Users\\prath\\Downloads\\A2.ipynb Cell 1\u001b[0m line \u001b[0;36m1\n\u001b[1;32m----> <a href='vscode-notebook-cell:/c%3A/Users/prath/Downloads/A2.ipynb#W0sZmlsZQ%3D%3D?line=0'>1</a>\u001b[0m \u001b[39mfrom\u001b[39;00m \u001b[39mtensorflow\u001b[39;00m\u001b[39m.\u001b[39;00m\u001b[39mkeras\u001b[39;00m\u001b[39m.\u001b[39;00m\u001b[39mdatasets\u001b[39;00m \u001b[39mimport\u001b[39;00m mnist\n",
      "\u001b[1;31mModuleNotFoundError\u001b[0m: No module named 'tensorflow'"
     ]
    }
   ],
   "source": [
    "from tensorflow.keras.datasets import mnist"
   ]
  },
  {
   "cell_type": "code",
   "execution_count": 50,
   "id": "698405de",
   "metadata": {},
   "outputs": [],
   "source": [
    "(x_train, y_train), (x_test, y_test) = mnist.load_data()"
   ]
  },
  {
   "cell_type": "code",
   "execution_count": 51,
   "id": "8beef4f4",
   "metadata": {},
   "outputs": [],
   "source": [
    "x_train = x_train.reshape(x_train.shape[0],28*28)\n",
    "x_test = x_test.reshape(x_test.shape[0],28*28)\n",
    "x_train = x_train.astype(\"float32\")/255.0\n",
    "x_test = x_test.astype('float32')/255.0"
   ]
  },
  {
   "cell_type": "code",
   "execution_count": 52,
   "id": "03ba0f61",
   "metadata": {},
   "outputs": [],
   "source": [
    "from sklearn.preprocessing import LabelBinarizer"
   ]
  },
  {
   "cell_type": "code",
   "execution_count": 53,
   "id": "235fb42e",
   "metadata": {},
   "outputs": [],
   "source": [
    "lb = LabelBinarizer()#categorical to binary"
   ]
  },
  {
   "cell_type": "code",
   "execution_count": 54,
   "id": "9a63fb2f",
   "metadata": {},
   "outputs": [],
   "source": [
    "y_train = lb.fit_transform(y_train)\n",
    "y_test = lb.transform(y_test)"
   ]
  },
  {
   "cell_type": "code",
   "execution_count": 55,
   "id": "a96cc61b",
   "metadata": {},
   "outputs": [],
   "source": [
    "from tensorflow.keras.models import Sequential\n",
    "from tensorflow.keras.layers import Dense"
   ]
  },
  {
   "cell_type": "code",
   "execution_count": 56,
   "id": "2191b129",
   "metadata": {},
   "outputs": [
    {
     "name": "stdout",
     "output_type": "stream",
     "text": [
      "Model: \"sequential_3\"\n",
      "_________________________________________________________________\n",
      " Layer (type)                Output Shape              Param #   \n",
      "=================================================================\n",
      " dense_9 (Dense)             (None, 128)               100480    \n",
      "                                                                 \n",
      " dense_10 (Dense)            (None, 64)                8256      \n",
      "                                                                 \n",
      " dense_11 (Dense)            (None, 10)                650       \n",
      "                                                                 \n",
      "=================================================================\n",
      "Total params: 109,386\n",
      "Trainable params: 109,386\n",
      "Non-trainable params: 0\n",
      "_________________________________________________________________\n"
     ]
    }
   ],
   "source": [
    "model = Sequential()\n",
    "model.add(Dense(128,input_shape=(784,),activation=\"sigmoid\")) #imp\n",
    "model.add(Dense(64,activation=\"sigmoid\"))\n",
    "model.add(Dense(10,activation=\"softmax\"))\n",
    "model.summary()"
   ]
  },
  {
   "cell_type": "code",
   "execution_count": 57,
   "id": "742d79d6",
   "metadata": {},
   "outputs": [],
   "source": [
    "from tensorflow.keras.optimizers import SGD"
   ]
  },
  {
   "cell_type": "code",
   "execution_count": 58,
   "id": "c7d28f7f",
   "metadata": {},
   "outputs": [],
   "source": [
    "sgd = SGD(0.01)"
   ]
  },
  {
   "cell_type": "code",
   "execution_count": 59,
   "id": "f17856f8",
   "metadata": {},
   "outputs": [
    {
     "name": "stdout",
     "output_type": "stream",
     "text": [
      "Epoch 1/10\n",
      "469/469 [==============================] - 2s 4ms/step - loss: 2.2854 - accuracy: 0.1755 - val_loss: 2.2532 - val_accuracy: 0.1901\n",
      "Epoch 2/10\n",
      "469/469 [==============================] - 2s 3ms/step - loss: 2.2279 - accuracy: 0.3529 - val_loss: 2.1970 - val_accuracy: 0.3769\n",
      "Epoch 3/10\n",
      "469/469 [==============================] - 2s 4ms/step - loss: 2.1639 - accuracy: 0.4735 - val_loss: 2.1205 - val_accuracy: 0.4977\n",
      "Epoch 4/10\n",
      "469/469 [==============================] - 2s 4ms/step - loss: 2.0730 - accuracy: 0.5450 - val_loss: 2.0092 - val_accuracy: 0.5692\n",
      "Epoch 5/10\n",
      "469/469 [==============================] - 2s 3ms/step - loss: 1.9427 - accuracy: 0.5886 - val_loss: 1.8536 - val_accuracy: 0.6030\n",
      "Epoch 6/10\n",
      "469/469 [==============================] - 1s 3ms/step - loss: 1.7710 - accuracy: 0.6208 - val_loss: 1.6635 - val_accuracy: 0.6658\n",
      "Epoch 7/10\n",
      "469/469 [==============================] - 1s 3ms/step - loss: 1.5782 - accuracy: 0.6597 - val_loss: 1.4680 - val_accuracy: 0.6918\n",
      "Epoch 8/10\n",
      "469/469 [==============================] - 1s 3ms/step - loss: 1.3933 - accuracy: 0.6975 - val_loss: 1.2936 - val_accuracy: 0.7128\n",
      "Epoch 9/10\n",
      "469/469 [==============================] - 1s 3ms/step - loss: 1.2337 - accuracy: 0.7247 - val_loss: 1.1489 - val_accuracy: 0.7533\n",
      "Epoch 10/10\n",
      "469/469 [==============================] - 1s 3ms/step - loss: 1.1032 - accuracy: 0.7526 - val_loss: 1.0324 - val_accuracy: 0.7743\n"
     ]
    }
   ],
   "source": [
    "model.compile(optimizer=sgd,loss=\"categorical_crossentropy\",metrics=[\"accuracy\"])\n",
    "H = model.fit(x_train,y_train,validation_data=(x_test,y_test),epochs=10,batch_size=128)"
   ]
  },
  {
   "cell_type": "code",
   "execution_count": 60,
   "id": "35a9bb41",
   "metadata": {},
   "outputs": [
    {
     "name": "stdout",
     "output_type": "stream",
     "text": [
      "79/79 [==============================] - 0s 2ms/step\n"
     ]
    }
   ],
   "source": [
    "predictions = model.predict(x_test,batch_size=128)"
   ]
  },
  {
   "cell_type": "code",
   "execution_count": 61,
   "id": "fe69457e",
   "metadata": {},
   "outputs": [],
   "source": [
    "from sklearn.metrics import classification_report "
   ]
  },
  {
   "cell_type": "code",
   "execution_count": 62,
   "id": "8b8d7b23",
   "metadata": {},
   "outputs": [
    {
     "name": "stdout",
     "output_type": "stream",
     "text": [
      "              precision    recall  f1-score   support\n",
      "\n",
      "           0       0.77      0.96      0.86       980\n",
      "           1       0.77      0.99      0.87      1135\n",
      "           2       0.85      0.72      0.78      1032\n",
      "           3       0.66      0.82      0.73      1010\n",
      "           4       0.72      0.91      0.80       982\n",
      "           5       0.88      0.40      0.55       892\n",
      "           6       0.83      0.91      0.87       958\n",
      "           7       0.78      0.87      0.82      1028\n",
      "           8       0.79      0.51      0.62       974\n",
      "           9       0.81      0.59      0.68      1009\n",
      "\n",
      "    accuracy                           0.77     10000\n",
      "   macro avg       0.79      0.77      0.76     10000\n",
      "weighted avg       0.79      0.77      0.76     10000\n",
      "\n"
     ]
    }
   ],
   "source": [
    "print(classification_report(y_test.argmax(axis=1),predictions.argmax(axis=1)))"
   ]
  },
  {
   "cell_type": "code",
   "execution_count": 63,
   "id": "31a78d0e",
   "metadata": {},
   "outputs": [],
   "source": [
    "import matplotlib.pyplot as plt\n",
    "import numpy as np"
   ]
  },
  {
   "cell_type": "code",
   "execution_count": 64,
   "id": "2cd8692f",
   "metadata": {},
   "outputs": [
    {
     "data": {
      "text/plain": [
       "<matplotlib.legend.Legend at 0x7f001d546e50>"
      ]
     },
     "execution_count": 64,
     "metadata": {},
     "output_type": "execute_result"
    },
    {
     "data": {
      "image/png": "[encoded data removed]",
      "text/plain": [
       "<Figure size 640x480 with 1 Axes>"
      ]
     },
     "metadata": {},
     "output_type": "display_data"
    }
   ],
   "source": [
    "plt.plot(np.arange(0,10),H.history[\"loss\"],label='train_loss')\n",
    "plt.plot(np.arange(0,10),H.history[\"val_loss\"],label='val_loss')\n",
    "plt.plot(np.arange(0,10),H.history[\"accuracy\"],label='accuracy')\n",
    "plt.plot(np.arange(0,10),H.history[\"val_accuracy\"],label='val_accuracy')\n",
    "plt.title(\"Training Loss and Accuracy\")\n",
    "plt.xlabel(\"Epoch #\")\n",
    "plt.ylabel(\"Loss/Accuracy\")\n",
    "plt.legend()\n"
   ]
  },
  {
   "cell_type": "code",
   "execution_count": null,
   "id": "be888f5a",
   "metadata": {},
   "outputs": [],
   "source": []
  },
  {
   "cell_type": "code",
   "execution_count": null,
   "id": "1062349b",
   "metadata": {},
   "outputs": [],
   "source": []
  },
  {
   "cell_type": "code",
   "execution_count": null,
   "id": "1198d9b0",
   "metadata": {},
   "outputs": [],
   "source": []
  }
 ],
 "metadata": {
  "kernelspec": {
   "display_name": "Python 3 (ipykernel)",
   "language": "python",
   "name": "python3"
  },
  "language_info": {
   "codemirror_mode": {
    "name": "ipython",
    "version": 3
   },
   "file_extension": ".py",
   "mimetype": "text/x-python",
   "name": "python",
   "nbconvert_exporter": "python",
   "pygments_lexer": "ipython3",
   "version": "3.12.0"
  }
 },
 "nbformat": 4,
 "nbformat_minor": 5
}
