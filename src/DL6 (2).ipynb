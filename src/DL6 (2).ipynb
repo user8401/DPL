{
  "nbformat": 4,
  "nbformat_minor": 0,
  "metadata": {
    "colab": {
      "provenance": []
    },
    "kernelspec": {
      "name": "python3",
      "display_name": "Python 3"
    },
    "language_info": {
      "name": "python"
    }
  },
  "cells": [
    {
      "cell_type": "code",
      "source": [
        "import tensorflow as tf\n",
        "from tensorflow.keras.datasets import cifar10\n",
        "from tensorflow.keras.applications import VGG16\n",
        "from tensorflow.keras.models import Sequential\n",
        "from tensorflow.keras.layers import Flatten, Dense\n",
        "from tensorflow.keras.utils import to_categorical\n"
      ],
      "metadata": {
        "id": "DFAgg9PRH19H"
      },
      "execution_count": 13,
      "outputs": []
    },
    {
      "cell_type": "code",
      "source": [
        "# Load CIFAR-10 dataset\n",
        "(itrain, ltrain), (itest, ltest) = cifar10.load_data()\n"
      ],
      "metadata": {
        "id": "euSoB77qH4_Q"
      },
      "execution_count": 14,
      "outputs": []
    },
    {
      "cell_type": "code",
      "source": [
        "# Preprocess the data\n",
        "itrain = itrain / 255.0\n",
        "itest = itest / 255.0\n",
        "ltrain = to_categorical(ltrain)\n",
        "ltest = to_categorical(ltest)"
      ],
      "metadata": {
        "id": "9eeEkaULICNV"
      },
      "execution_count": 15,
      "outputs": []
    },
    {
      "cell_type": "code",
      "source": [
        "# Load pre-trained VGG16 model (excluding the top fully-connected layers)\n",
        "basem = VGG16(weights='imagenet', include_top=False, input_shape=(32, 32, 3))"
      ],
      "metadata": {
        "id": "bsyhOZZ8ID20"
      },
      "execution_count": 16,
      "outputs": []
    },
    {
      "cell_type": "code",
      "source": [
        "# Freeze the pre-trained layers\n",
        "for layer in basem.layers:\n",
        "   layer.trainable = False"
      ],
      "metadata": {
        "id": "jdSpGN8TIEA8"
      },
      "execution_count": 17,
      "outputs": []
    },
    {
      "cell_type": "code",
      "source": [
        "# Create a new model on top\n",
        "semodel = Sequential()\n",
        "semodel.add(basem)\n",
        "semodel.add(Flatten())\n",
        "semodel.add(Dense(256, activation='relu'))\n",
        "semodel.add(Dense(10, activation='softmax'))  # CIFAR-10 has 10 classes"
      ],
      "metadata": {
        "id": "u6fwKoinIEIA"
      },
      "execution_count": 18,
      "outputs": []
    },
    {
      "cell_type": "code",
      "source": [
        "# Compile the model\n",
        "semodel.compile(optimizer='adam', loss='categorical_crossentropy', metrics=['accuracy'])"
      ],
      "metadata": {
        "id": "k0NmYJqsIPAb"
      },
      "execution_count": 19,
      "outputs": []
    },
    {
      "cell_type": "code",
      "source": [
        "# Train the model\n",
        "semodel.fit(itrain, ltrain, epochs=10, batch_size=32, validation_data=(itest, ltest))"
      ],
      "metadata": {
        "colab": {
          "base_uri": "https://localhost:8080/"
        },
        "id": "yiPFJgQjIe_W",
        "outputId": "14b3cddf-483d-4e67-fc9e-b0eb9c1da182"
      },
      "execution_count": null,
      "outputs": [
        {
          "output_type": "stream",
          "name": "stdout",
          "text": [
            "Epoch 1/10\n",
            "   8/1563 [..............................] - ETA: 10:25 - loss: 2.2933 - accuracy: 0.1602"
          ]
        }
      ]
    },
    {
      "cell_type": "code",
      "source": [
        "# Evaluate the model on test data\n",
        "ltest, atest = semodel.evaluate(itest, ltest)\n",
        "print(\"Test accuracy:\", atest)"
      ],
      "metadata": {
        "id": "M97v4FvYIkGS"
      },
      "execution_count": null,
      "outputs": []
    },
    {
      "cell_type": "code",
      "source": [],
      "metadata": {
        "id": "OBSB-0_bYPva"
      },
      "execution_count": null,
      "outputs": []
    }
  ]
}